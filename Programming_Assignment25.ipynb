{
 "cells": [
  {
   "cell_type": "markdown",
   "id": "af583961",
   "metadata": {},
   "source": [
    "Question1\n",
    "Create a function that takes three integer arguments (a, b, c) and returns the amount of\n",
    "integers which are of equal value.\n",
    "Examples\n",
    "equal(3, 4, 3) ➞ 2\n",
    "equal(1, 1, 1) ➞ 3\n",
    "equal(3, 4, 1) ➞ 0\n",
    "Notes\n",
    "Your function must return 0, 2 or 3.\n"
   ]
  },
  {
   "cell_type": "code",
   "execution_count": 8,
   "id": "5f77780f",
   "metadata": {},
   "outputs": [],
   "source": [
    "def equ_num_int(a, b, c):\n",
    "    num = 0\n",
    "    if a==b or a==c:\n",
    "        num =2\n",
    "    if a==b and a==c:\n",
    "        num = 3\n",
    "    else:\n",
    "        num=0\n",
    "    return num"
   ]
  },
  {
   "cell_type": "code",
   "execution_count": 9,
   "id": "9c16e37f",
   "metadata": {},
   "outputs": [
    {
     "data": {
      "text/plain": [
       "3"
      ]
     },
     "execution_count": 9,
     "metadata": {},
     "output_type": "execute_result"
    }
   ],
   "source": [
    "equ_num_int(1,1,1)"
   ]
  },
  {
   "cell_type": "markdown",
   "id": "5b6cff3b",
   "metadata": {},
   "source": [
    "Question2\n",
    "Write a function that converts a dictionary into a list of keys-values tuples."
   ]
  },
  {
   "cell_type": "code",
   "execution_count": 26,
   "id": "5bf55f8b",
   "metadata": {},
   "outputs": [],
   "source": [
    "def con_dict_list(dict1):\n",
    "    list1 = []\n",
    "    list_keys = []\n",
    "    list2 = []\n",
    "    for i, j in dict1.items():\n",
    "        list_keys.append(i)\n",
    "        list1.append((i, j))\n",
    "    list_keys.sort()\n",
    "    for i in list_keys:\n",
    "        list2.append((i, dict1[i]))\n",
    "    return list2\n",
    "    "
   ]
  },
  {
   "cell_type": "code",
   "execution_count": 27,
   "id": "14fcf852",
   "metadata": {},
   "outputs": [
    {
     "name": "stdout",
     "output_type": "stream",
     "text": [
      "[('aarya', 2), ('prakash', 3), ('rash', 1)]\n"
     ]
    }
   ],
   "source": [
    "print(con_dict_list({\"rash\":1, \"aarya\":2, \"prakash\":3}))"
   ]
  },
  {
   "cell_type": "markdown",
   "id": "f8dfb566",
   "metadata": {},
   "source": [
    "Question3\n",
    "Write a function that creates a dictionary with each (key, value) pair being the (lower case,\n",
    "upper case) versions of a letter,respectively\n",
    "note:-all the letter in input list will be in lower case"
   ]
  },
  {
   "cell_type": "code",
   "execution_count": 7,
   "id": "4a5f934f",
   "metadata": {},
   "outputs": [],
   "source": [
    "def dict_lower_upper_pair(l):\n",
    "    dict={}\n",
    "    for i in l:\n",
    "        dict[i] = chr(ord(i)-32)\n",
    "    return dict"
   ]
  },
  {
   "cell_type": "code",
   "execution_count": 8,
   "id": "03b445fc",
   "metadata": {},
   "outputs": [
    {
     "data": {
      "text/plain": [
       "{'d': 'D', 'c': 'C', 'g': 'G', 'm': 'M', 't': 'T'}"
      ]
     },
     "execution_count": 8,
     "metadata": {},
     "output_type": "execute_result"
    }
   ],
   "source": [
    "dict_lower_upper_pair(['d', 'c', 'g', 'm', 't'])"
   ]
  },
  {
   "cell_type": "markdown",
   "id": "9a6256d7",
   "metadata": {},
   "source": [
    "Question4\n",
    "Write a function, that replaces all vowels in a string with a specified vowel.\n",
    "note:-All words will be lowercase. Y is not considered a vowel."
   ]
  },
  {
   "cell_type": "code",
   "execution_count": 1,
   "id": "68d6211e",
   "metadata": {},
   "outputs": [],
   "source": [
    "def vow_replace(a, b):\n",
    "    vow_list=['a', 'e', 'i', 'o', 'u']\n",
    "    l=a.split()\n",
    "    l1 = []\n",
    "    for i in l:\n",
    "        str1=\"\"\n",
    "        for j in i:\n",
    "            if j in vow_list:\n",
    "                str1 += b\n",
    "            else:\n",
    "                str1 += j\n",
    "        l1.append(str1)\n",
    "    c = \" \".join(l1)\n",
    "    return c"
   ]
  },
  {
   "cell_type": "code",
   "execution_count": 2,
   "id": "a6da342f",
   "metadata": {},
   "outputs": [
    {
     "name": "stdout",
     "output_type": "stream",
     "text": [
      "upplus und bununus\n"
     ]
    }
   ],
   "source": [
    "print(vow_replace(\"apples and bananas\", \"u\"))"
   ]
  },
  {
   "cell_type": "code",
   "execution_count": 3,
   "id": "714d85f3",
   "metadata": {},
   "outputs": [
    {
     "name": "stdout",
     "output_type": "stream",
     "text": [
      "chooso cossorolo\n"
     ]
    }
   ],
   "source": [
    "print(vow_replace(\"cheese casserole\", \"o\"))"
   ]
  },
  {
   "cell_type": "code",
   "execution_count": 4,
   "id": "393b51c3",
   "metadata": {
    "scrolled": true
   },
   "outputs": [
    {
     "name": "stdout",
     "output_type": "stream",
     "text": [
      "steffed jelepene peppers\n"
     ]
    }
   ],
   "source": [
    "print(vow_replace(\"stuffed jalapeno poppers\", \"e\"))"
   ]
  },
  {
   "cell_type": "markdown",
   "id": "8412b67c",
   "metadata": {},
   "source": [
    "Question 5\n",
    "Create a function that takes a string as input and capitalizes a letter if its ASCII code is even\n",
    "and returns its lower case version if its ASCII code is odd."
   ]
  },
  {
   "cell_type": "code",
   "execution_count": 10,
   "id": "a698d9c3",
   "metadata": {},
   "outputs": [],
   "source": [
    "def string_ascii_conve(str1):\n",
    "    l1 = []\n",
    "    for i in str1:\n",
    "        str2 =\"\"\n",
    "        if ord(i)%2 == 0 and (i>= \"a\" and i <= \"z\"):\n",
    "            i = chr(ord(i) - 32)\n",
    "            str2 += i\n",
    "        elif ord(i)%2 != 0 and (i >= \"A\" and i <=\"Z\"):\n",
    "            i = chr(ord(i)+32)\n",
    "            str2+=i\n",
    "        else:\n",
    "            str2 += i\n",
    "        l1.append(str2)\n",
    "    str3 = \"\".join(l1)\n",
    "    return str3\n",
    "    \n",
    "    \n",
    "    \n",
    "    \n",
    "    "
   ]
  },
  {
   "cell_type": "code",
   "execution_count": 11,
   "id": "e6986e68",
   "metadata": {},
   "outputs": [
    {
     "data": {
      "text/plain": [
       "'THe LiTTLe meRmaiD'"
      ]
     },
     "execution_count": 11,
     "metadata": {},
     "output_type": "execute_result"
    }
   ],
   "source": [
    "string_ascii_conve(\"THE LITTLE MERMAID\")"
   ]
  },
  {
   "cell_type": "code",
   "execution_count": 12,
   "id": "e792bc2e",
   "metadata": {},
   "outputs": [
    {
     "data": {
      "text/plain": [
       "'oH wHaT a BeauTiFuL moRNiNg'"
      ]
     },
     "execution_count": 12,
     "metadata": {},
     "output_type": "execute_result"
    }
   ],
   "source": [
    "string_ascii_conve(\"Oh what a beautiful morning\")"
   ]
  }
 ],
 "metadata": {
  "kernelspec": {
   "display_name": "Python 3 (ipykernel)",
   "language": "python",
   "name": "python3"
  },
  "language_info": {
   "codemirror_mode": {
    "name": "ipython",
    "version": 3
   },
   "file_extension": ".py",
   "mimetype": "text/x-python",
   "name": "python",
   "nbconvert_exporter": "python",
   "pygments_lexer": "ipython3",
   "version": "3.8.11"
  }
 },
 "nbformat": 4,
 "nbformat_minor": 5
}
