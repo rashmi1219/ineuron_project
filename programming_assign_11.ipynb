{
 "cells": [
  {
   "cell_type": "markdown",
   "id": "dfafc0f3",
   "metadata": {},
   "source": [
    "1. Write a Python program to find words which are greater than given length k?\n",
    "2. Write a Python program for removing i-th character from a string?\n",
    "3. Write a Python program to split and join a string?\n",
    "4. Write a Python to check if a given string is binary string or not?\n",
    "5. Write a Python program to find uncommon words from two Strings?\n",
    "6. Write a Python to find all duplicate characters in string?\n",
    "7. Write a Python Program to check if a string contains any special character?"
   ]
  },
  {
   "cell_type": "code",
   "execution_count": null,
   "id": "b2e2ce8c",
   "metadata": {},
   "outputs": [],
   "source": [
    "#1. Write a Python program to find words which are greater than given length k?"
   ]
  },
  {
   "cell_type": "code",
   "execution_count": 1,
   "id": "62f13a42",
   "metadata": {},
   "outputs": [
    {
     "data": {
      "text/plain": [
       "True"
      ]
     },
     "execution_count": 1,
     "metadata": {},
     "output_type": "execute_result"
    }
   ],
   "source": [
    "def word_len_gre(word, k):\n",
    "    l = len(word)\n",
    "    if l > k:\n",
    "        return True\n",
    "    else:\n",
    "        return False\n",
    "word_len_gre('aaryakrishna', 10)\n",
    "    "
   ]
  },
  {
   "cell_type": "code",
   "execution_count": null,
   "id": "0a04a23a",
   "metadata": {},
   "outputs": [],
   "source": [
    "#2.Write a Python program for removing i-th character from a string?"
   ]
  },
  {
   "cell_type": "code",
   "execution_count": 3,
   "id": "fa264f41",
   "metadata": {},
   "outputs": [
    {
     "data": {
      "text/plain": [
       "'rasmi'"
      ]
     },
     "execution_count": 3,
     "metadata": {},
     "output_type": "execute_result"
    }
   ],
   "source": [
    "def rem_ith_char(str1, i):\n",
    "    new_str = \"\"\n",
    "    for j in range(len(str1)):\n",
    "        if i != j:\n",
    "            new_str += str1[j]\n",
    "    return new_str\n",
    "rem_ith_char('rashmi',3)"
   ]
  },
  {
   "cell_type": "code",
   "execution_count": null,
   "id": "e003fe62",
   "metadata": {},
   "outputs": [],
   "source": [
    "#3. Write a Python program to split and join a string?"
   ]
  },
  {
   "cell_type": "code",
   "execution_count": 11,
   "id": "daa3def4",
   "metadata": {},
   "outputs": [
    {
     "name": "stdout",
     "output_type": "stream",
     "text": [
      "['my', 'name', 'is', 'rashmi']\n"
     ]
    }
   ],
   "source": [
    "str = 'my name is rashmi'\n",
    "def split_string(str1):\n",
    "    l = str.split(\" \")\n",
    "    print(l)\n",
    "split_string(str)"
   ]
  },
  {
   "cell_type": "code",
   "execution_count": 13,
   "id": "6c93675d",
   "metadata": {},
   "outputs": [
    {
     "name": "stdout",
     "output_type": "stream",
     "text": [
      "my name is rashmi\n"
     ]
    }
   ],
   "source": [
    "l = ['my', 'name', 'is', 'rashmi']\n",
    "def join_string(l1):\n",
    "    print(\" \".join(l))\n",
    "join_string(l)"
   ]
  },
  {
   "cell_type": "code",
   "execution_count": null,
   "id": "2a162ac1",
   "metadata": {},
   "outputs": [],
   "source": [
    "#4. Write a Python to check if a given string is binary string or not?"
   ]
  },
  {
   "cell_type": "code",
   "execution_count": 21,
   "id": "64c2bd59",
   "metadata": {},
   "outputs": [
    {
     "name": "stdout",
     "output_type": "stream",
     "text": [
      "this is not a binary string\n"
     ]
    }
   ],
   "source": [
    "def check_binary_str(s):\n",
    "    s1 = set(s)\n",
    "    s2 = {'0', '1'}\n",
    "    if s1 == s2:\n",
    "        print('this is a binary string')\n",
    "    else:\n",
    "        print('this is not a binary string')\n",
    "\n",
    "check_binary_str(\"11001y1011y\")    "
   ]
  },
  {
   "cell_type": "code",
   "execution_count": null,
   "id": "e10dec41",
   "metadata": {},
   "outputs": [],
   "source": [
    "# 5. Write a Python program to find uncommon words from two Strings?"
   ]
  },
  {
   "cell_type": "code",
   "execution_count": 29,
   "id": "8398b6cf",
   "metadata": {},
   "outputs": [
    {
     "name": "stdout",
     "output_type": "stream",
     "text": [
      "['geeks', 'for', 'rashmi', 'aarya']\n"
     ]
    }
   ],
   "source": [
    "def uncommon_words(s1, s2):\n",
    "    l1 = s1.split(' ')\n",
    "    l2 = s2.split(' ')\n",
    "    l1.extend(l2)\n",
    "    l3 = list(dict.fromkeys(l1))\n",
    "    return l3\n",
    "print(uncommon_words(\"geeks for rashmi\", \"geeks for aarya\"))\n",
    "            "
   ]
  },
  {
   "cell_type": "code",
   "execution_count": null,
   "id": "c7986998",
   "metadata": {},
   "outputs": [],
   "source": [
    "#6. Write a Python to find all duplicate characters in string?"
   ]
  },
  {
   "cell_type": "code",
   "execution_count": 30,
   "id": "86db87dd",
   "metadata": {},
   "outputs": [
    {
     "name": "stdout",
     "output_type": "stream",
     "text": [
      "['a', 'r', 'y']\n"
     ]
    }
   ],
   "source": [
    "def rem_dupl_char(s):\n",
    "    l = list(s)\n",
    "    l1 = list(dict.fromkeys(l))\n",
    "    return l1\n",
    "print(rem_dupl_char('aaryaa'))"
   ]
  },
  {
   "cell_type": "code",
   "execution_count": null,
   "id": "cb21fb2a",
   "metadata": {},
   "outputs": [],
   "source": [
    "#7. Write a Python Program to check if a string contains any special character?"
   ]
  },
  {
   "cell_type": "code",
   "execution_count": 36,
   "id": "1990ceda",
   "metadata": {},
   "outputs": [
    {
     "name": "stdout",
     "output_type": "stream",
     "text": [
      "True\n"
     ]
    }
   ],
   "source": [
    "import re\n",
    "def any_spe_char(s):\n",
    "    special_char = False\n",
    "    reexp=re.compile('[a-zA-Z0-9]')\n",
    "    if reexp.search(s):\n",
    "        special_char = True\n",
    "    print(special_char)\n",
    "any_spe_char(\"hi! how are you!!\")  "
   ]
  }
 ],
 "metadata": {
  "kernelspec": {
   "display_name": "Python 3 (ipykernel)",
   "language": "python",
   "name": "python3"
  },
  "language_info": {
   "codemirror_mode": {
    "name": "ipython",
    "version": 3
   },
   "file_extension": ".py",
   "mimetype": "text/x-python",
   "name": "python",
   "nbconvert_exporter": "python",
   "pygments_lexer": "ipython3",
   "version": "3.8.11"
  }
 },
 "nbformat": 4,
 "nbformat_minor": 5
}
