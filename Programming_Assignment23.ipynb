{
 "cells": [
  {
   "cell_type": "markdown",
   "id": "a2ceba92",
   "metadata": {},
   "source": [
    "Question1\n",
    "Create a function that takes a number as an argument and returns True or False depending\n",
    "on whether the number is symmetrical or not. A number is symmetrical when it is the same as\n",
    "its reverse."
   ]
  },
  {
   "cell_type": "code",
   "execution_count": 6,
   "id": "5a5c55f2",
   "metadata": {},
   "outputs": [],
   "source": [
    "def symm_num(num):\n",
    "    s1 = str(num)\n",
    "    s2 = s1[::-1]\n",
    "    if s1 == s2:\n",
    "        print(True)\n",
    "    else:\n",
    "        print(False)"
   ]
  },
  {
   "cell_type": "code",
   "execution_count": 10,
   "id": "9d553416",
   "metadata": {},
   "outputs": [
    {
     "name": "stdout",
     "output_type": "stream",
     "text": [
      "False\n"
     ]
    }
   ],
   "source": [
    "symm_num(7277)"
   ]
  },
  {
   "cell_type": "code",
   "execution_count": 9,
   "id": "50745d08",
   "metadata": {},
   "outputs": [
    {
     "name": "stdout",
     "output_type": "stream",
     "text": [
      "True\n"
     ]
    }
   ],
   "source": [
    "symm_num(1112111)"
   ]
  },
  {
   "cell_type": "markdown",
   "id": "a0b03c7c",
   "metadata": {},
   "source": [
    "Question2\n",
    "Given a string of numbers separated by a comma and space, return the product of the\n",
    "numbers."
   ]
  },
  {
   "cell_type": "code",
   "execution_count": 13,
   "id": "7a4979dc",
   "metadata": {},
   "outputs": [],
   "source": [
    "def pod_str_num(n):\n",
    "    l1 = n.split(\", \")\n",
    "    prod = 1\n",
    "    for i in l1:\n",
    "        prod *= int(i)\n",
    "    return prod"
   ]
  },
  {
   "cell_type": "code",
   "execution_count": 14,
   "id": "1111ae71",
   "metadata": {},
   "outputs": [
    {
     "data": {
      "text/plain": [
       "0"
      ]
     },
     "execution_count": 14,
     "metadata": {},
     "output_type": "execute_result"
    }
   ],
   "source": [
    "pod_str_num(\"54, 75, 453, 0\")"
   ]
  },
  {
   "cell_type": "code",
   "execution_count": 15,
   "id": "e7665f92",
   "metadata": {},
   "outputs": [
    {
     "data": {
      "text/plain": [
       "-20"
      ]
     },
     "execution_count": 15,
     "metadata": {},
     "output_type": "execute_result"
    }
   ],
   "source": [
    "pod_str_num(\"10, -2\")"
   ]
  },
  {
   "cell_type": "markdown",
   "id": "4f1bb433",
   "metadata": {},
   "source": [
    "Question3\n",
    "Create a function that squares every digit of a number."
   ]
  },
  {
   "cell_type": "code",
   "execution_count": 18,
   "id": "aef1af4e",
   "metadata": {},
   "outputs": [],
   "source": [
    "def squ_digit_num(num):\n",
    "    s1 = str(num)\n",
    "    s2 = \"\"\n",
    "    for i in s1:\n",
    "        s2 += str(int(i)**2)\n",
    "    num1 = int(s2)\n",
    "    return num1"
   ]
  },
  {
   "cell_type": "code",
   "execution_count": 19,
   "id": "775b34b3",
   "metadata": {},
   "outputs": [
    {
     "data": {
      "text/plain": [
       "416649"
      ]
     },
     "execution_count": 19,
     "metadata": {},
     "output_type": "execute_result"
    }
   ],
   "source": [
    "squ_digit_num(2483)"
   ]
  },
  {
   "cell_type": "code",
   "execution_count": 20,
   "id": "f8644718",
   "metadata": {},
   "outputs": [
    {
     "data": {
      "text/plain": [
       "9414"
      ]
     },
     "execution_count": 20,
     "metadata": {},
     "output_type": "execute_result"
    }
   ],
   "source": [
    "squ_digit_num(3212)"
   ]
  },
  {
   "cell_type": "markdown",
   "id": "801a2ea7",
   "metadata": {},
   "source": [
    "Question4\n",
    "Create a function that sorts a list and removes all duplicate items from it."
   ]
  },
  {
   "cell_type": "code",
   "execution_count": 26,
   "id": "dfc211d5",
   "metadata": {},
   "outputs": [],
   "source": [
    "def setify(l):\n",
    "    s = set(l)\n",
    "    l1 = sorted(list(s))\n",
    "    return l1"
   ]
  },
  {
   "cell_type": "code",
   "execution_count": 28,
   "id": "de76fbc1",
   "metadata": {},
   "outputs": [
    {
     "data": {
      "text/plain": [
       "[1, 2, 4, 5, 6, 7, 8, 9]"
      ]
     },
     "execution_count": 28,
     "metadata": {},
     "output_type": "execute_result"
    }
   ],
   "source": [
    "setify([8,9,5,5,7,4,6,5,1,2])"
   ]
  },
  {
   "cell_type": "markdown",
   "id": "1657062d",
   "metadata": {},
   "source": [
    "Question 5\n",
    "Create a function that returns the mean of all digits."
   ]
  },
  {
   "cell_type": "code",
   "execution_count": 30,
   "id": "c7a128e2",
   "metadata": {},
   "outputs": [],
   "source": [
    "def mean_digit_num(num):\n",
    "    s1 = str(num)\n",
    "    l = len(s1)\n",
    "    sum = 0\n",
    "    for i in s1:\n",
    "        sum += int(i)\n",
    "    mean = sum // l\n",
    "    return mean\n",
    "        "
   ]
  },
  {
   "cell_type": "code",
   "execution_count": 31,
   "id": "4755d75d",
   "metadata": {},
   "outputs": [
    {
     "data": {
      "text/plain": [
       "4"
      ]
     },
     "execution_count": 31,
     "metadata": {},
     "output_type": "execute_result"
    }
   ],
   "source": [
    "mean_digit_num(324676)"
   ]
  },
  {
   "cell_type": "code",
   "execution_count": 32,
   "id": "0e3bba95",
   "metadata": {},
   "outputs": [
    {
     "data": {
      "text/plain": [
       "3"
      ]
     },
     "execution_count": 32,
     "metadata": {},
     "output_type": "execute_result"
    }
   ],
   "source": [
    "mean_digit_num(12345)"
   ]
  },
  {
   "cell_type": "code",
   "execution_count": null,
   "id": "6410abeb",
   "metadata": {},
   "outputs": [],
   "source": []
  }
 ],
 "metadata": {
  "kernelspec": {
   "display_name": "Python 3 (ipykernel)",
   "language": "python",
   "name": "python3"
  },
  "language_info": {
   "codemirror_mode": {
    "name": "ipython",
    "version": 3
   },
   "file_extension": ".py",
   "mimetype": "text/x-python",
   "name": "python",
   "nbconvert_exporter": "python",
   "pygments_lexer": "ipython3",
   "version": "3.8.11"
  }
 },
 "nbformat": 4,
 "nbformat_minor": 5
}
