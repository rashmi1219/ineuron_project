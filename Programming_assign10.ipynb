{
 "cells": [
  {
   "cell_type": "code",
   "execution_count": 1,
   "id": "8b2cac77",
   "metadata": {},
   "outputs": [
    {
     "data": {
      "text/plain": [
       "15"
      ]
     },
     "execution_count": 1,
     "metadata": {},
     "output_type": "execute_result"
    }
   ],
   "source": [
    "#write a python program to find sum of elements in a list\n",
    "def sum_ele(l):\n",
    "    \"\"\" this function is to find the sum of elements in a list\"\"\"\n",
    "    if type(l) == list:\n",
    "        sum = 0\n",
    "        for i in l:\n",
    "            sum += i\n",
    "        return sum\n",
    "    else:\n",
    "        print('please pass list as an argument')\n",
    "sum_ele([1,2,3,4,5])"
   ]
  },
  {
   "cell_type": "code",
   "execution_count": 2,
   "id": "a3dc68a5",
   "metadata": {},
   "outputs": [
    {
     "data": {
      "text/plain": [
       "120"
      ]
     },
     "execution_count": 2,
     "metadata": {},
     "output_type": "execute_result"
    }
   ],
   "source": [
    "#write a python program to multiply all numbers in a list.\n",
    "def mult_ele(l):\n",
    "    \"\"\" this function is to find the product of elements in a list\"\"\"\n",
    "    if type(l) == list:\n",
    "        prod = 1\n",
    "        for i in l:\n",
    "            prod *= i\n",
    "        return prod\n",
    "    else:\n",
    "        print('please pass list as an argument')\n",
    "mult_ele([1,2,3,4,5])"
   ]
  },
  {
   "cell_type": "code",
   "execution_count": 10,
   "id": "26008526",
   "metadata": {
    "scrolled": true
   },
   "outputs": [
    {
     "data": {
      "text/plain": [
       "-7"
      ]
     },
     "execution_count": 10,
     "metadata": {},
     "output_type": "execute_result"
    }
   ],
   "source": [
    "#write a python program to find the smallest number in a list\n",
    "def smallest_num(l):\n",
    "    \n",
    "    if type(l) == list:\n",
    "        min = l[0]\n",
    "        for i in l:\n",
    "            \n",
    "            if min > i:\n",
    "                min = i\n",
    "        return min\n",
    "    else:\n",
    "            print('please pass list as an argument')   \n",
    "smallest_num([0, 1, -1, -2, 5, -7])    "
   ]
  },
  {
   "cell_type": "code",
   "execution_count": 13,
   "id": "bcbf4401",
   "metadata": {},
   "outputs": [
    {
     "data": {
      "text/plain": [
       "299"
      ]
     },
     "execution_count": 13,
     "metadata": {},
     "output_type": "execute_result"
    }
   ],
   "source": [
    "#write a python program to find the largest element in a list\n",
    "def largest_num(l):\n",
    "    \n",
    "    if type(l) == list:\n",
    "        max = l[0]\n",
    "        for i in l:\n",
    "            \n",
    "            if max < i:\n",
    "                max = i\n",
    "        return max\n",
    "    else:\n",
    "            print('please pass list as an argument')   \n",
    "largest_num([0, 1, -1, 299, 5, 70])    "
   ]
  },
  {
   "cell_type": "code",
   "execution_count": 17,
   "id": "c89d1301",
   "metadata": {},
   "outputs": [
    {
     "data": {
      "text/plain": [
       "[7, 6, 5]"
      ]
     },
     "execution_count": 17,
     "metadata": {},
     "output_type": "execute_result"
    }
   ],
   "source": [
    "#write a python program to find N largest element from a list\n",
    "def n_largest_ele(l, n):\n",
    "    l.sort()\n",
    "    l = l[::-1]\n",
    "    n_lar_ele=[]\n",
    "    for i in range(n):\n",
    "        n_lar_ele.append(l[i])\n",
    "    return n_lar_ele\n",
    "        \n",
    "        \n",
    "        \n",
    "\n",
    "n_largest_ele([1,2,3,4,1,4, 5,6, 7], )\n"
   ]
  },
  {
   "cell_type": "code",
   "execution_count": 20,
   "id": "1ae0f5b2",
   "metadata": {},
   "outputs": [
    {
     "data": {
      "text/plain": [
       "[2, 90, 12]"
      ]
     },
     "execution_count": 20,
     "metadata": {},
     "output_type": "execute_result"
    }
   ],
   "source": [
    "#write a python program to print even number in a list\n",
    "def even_num_list(l):\n",
    "    l1 = []\n",
    "    for i in l:\n",
    "        if i % 2 == 0:\n",
    "            l1.append(i)\n",
    "    return l1\n",
    "even_num_list([2,41,90,12,7])\n",
    "    "
   ]
  },
  {
   "cell_type": "code",
   "execution_count": 22,
   "id": "7dcf24a1",
   "metadata": {},
   "outputs": [
    {
     "data": {
      "text/plain": [
       "[41, 121, 7]"
      ]
     },
     "execution_count": 22,
     "metadata": {},
     "output_type": "execute_result"
    }
   ],
   "source": [
    "#write a python program to print odd number in a list\n",
    "def odd_num_list(l):\n",
    "    l1 = []\n",
    "    for i in l:\n",
    "        if i % 2 != 0:\n",
    "            l1.append(i)\n",
    "    return l1\n",
    "odd_num_list([2,41,90,121,7])"
   ]
  },
  {
   "cell_type": "code",
   "execution_count": 23,
   "id": "0ac037a1",
   "metadata": {},
   "outputs": [
    {
     "data": {
      "text/plain": [
       "[[1, 23, 3], [2, 3], [1]]"
      ]
     },
     "execution_count": 23,
     "metadata": {},
     "output_type": "execute_result"
    }
   ],
   "source": [
    "#write a python program to remove empty list from list\n",
    "def rem_empty_list(l):\n",
    "    l1 = []\n",
    "    for i in l:\n",
    "        if len(i) != 0:\n",
    "            l1.append(i)\n",
    "    return l1\n",
    "rem_empty_list([[1,23,3], [], [2,3], [1]])"
   ]
  },
  {
   "cell_type": "code",
   "execution_count": 24,
   "id": "c7ed11d8",
   "metadata": {},
   "outputs": [
    {
     "data": {
      "text/plain": [
       "[1, 2, 3]"
      ]
     },
     "execution_count": 24,
     "metadata": {},
     "output_type": "execute_result"
    }
   ],
   "source": [
    "#write a program to clonning or copying a list\n",
    "def copy_list(l):\n",
    "    l1 = l.copy()\n",
    "    return l1\n",
    "copy_list([1,2,3])"
   ]
  },
  {
   "cell_type": "code",
   "execution_count": 25,
   "id": "eaa6ca14",
   "metadata": {},
   "outputs": [
    {
     "data": {
      "text/plain": [
       "{1: 2, 2: 2, 3: 2, 5: 1, 6: 1}"
      ]
     },
     "execution_count": 25,
     "metadata": {},
     "output_type": "execute_result"
    }
   ],
   "source": [
    "#write a program to count occurance of an element in a list\n",
    "def list_ele(l):\n",
    "    d = {}\n",
    "    for i in l:\n",
    "        if i not in d.keys():\n",
    "            d[i] = 1\n",
    "        else:\n",
    "            d[i] += 1\n",
    "    return d\n",
    "list_ele([1,2,3,1,2,5,6,3])\n",
    "            "
   ]
  },
  {
   "cell_type": "code",
   "execution_count": null,
   "id": "f6eee198",
   "metadata": {},
   "outputs": [],
   "source": []
  }
 ],
 "metadata": {
  "kernelspec": {
   "display_name": "Python 3 (ipykernel)",
   "language": "python",
   "name": "python3"
  },
  "language_info": {
   "codemirror_mode": {
    "name": "ipython",
    "version": 3
   },
   "file_extension": ".py",
   "mimetype": "text/x-python",
   "name": "python",
   "nbconvert_exporter": "python",
   "pygments_lexer": "ipython3",
   "version": "3.8.11"
  }
 },
 "nbformat": 4,
 "nbformat_minor": 5
}
