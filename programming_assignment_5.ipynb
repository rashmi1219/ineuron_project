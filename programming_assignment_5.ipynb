{
 "cells": [
  {
   "cell_type": "code",
   "execution_count": 36,
   "id": "2e10b3e2",
   "metadata": {},
   "outputs": [
    {
     "data": {
      "text/plain": [
       "1000"
      ]
     },
     "execution_count": 36,
     "metadata": {},
     "output_type": "execute_result"
    }
   ],
   "source": [
    "#1. write a python programto find LCM\n",
    "def LCM_num(*args, n):\n",
    "    max_mult = max(args)\n",
    "    num = max_mult\n",
    "    while(num >= max_mult):\n",
    "        flag = 0\n",
    "        for i in args:\n",
    "            if num % i == 0:\n",
    "                flag = 1\n",
    "                continue\n",
    "            else:\n",
    "                flag = 0\n",
    "                break\n",
    "        if flag == 1:\n",
    "            return num\n",
    "        else:\n",
    "            num +=1\n",
    "                \n",
    "LCM_num(25, 50, 125,200, n=4) \n",
    "\n"
   ]
  },
  {
   "cell_type": "code",
   "execution_count": null,
   "id": "c60c16df",
   "metadata": {},
   "outputs": [],
   "source": [
    "# write apython program to find HCF.\n",
    "def Divisor(n):\n",
    "    l = []\n",
    "    for i in range(1,n+1):\n",
    "        if n % i == 0:\n",
    "            l.append(i)\n",
    "        else:\n",
    "            continue\n",
    "    l = l[::-1]\n",
    "    return l\n",
    "def hcf_num( *args , n):\n",
    "    l1 = []\n",
    "    for i in args:\n",
    "        l1.extend(Divisor(i))\n",
    "    l1.sort(reverse = True)\n",
    "    d = {}\n",
    "    d[l1[0]] = 0\n",
    "    for i in l1:\n",
    "        if i in d:\n",
    "            d[i] += 1\n",
    "        else:\n",
    "            d[i] = 1\n",
    "    list_div = []\n",
    "    for i in d.items():\n",
    "        if i[1] == n:\n",
    "            list_div.append(i[0])\n",
    "    return max(list_div)    \n",
    "hcf_num(14, 56, 63, n=3)                \n",
    "   "
   ]
  },
  {
   "cell_type": "code",
   "execution_count": null,
   "id": "9d2d81f0",
   "metadata": {},
   "outputs": [],
   "source": [
    "# write a python program to convert Decimal to Binary , Octal and Hexadecimal\n",
    "def conv_dec(dec):\n",
    "    str = input('you want to conert decimal to Binary, Octal or Hexadecimal')\n",
    "    if str == 'Binary':\n",
    "        print(bin(dec))\n",
    "    elif str == 'Octal':\n",
    "        print(oct(dec))\n",
    "    elif str == 'Hexadecimal':\n",
    "        print(hex(dec))\n",
    "\n",
    "conv_dec(10)\n",
    "\n"
   ]
  },
  {
   "cell_type": "code",
   "execution_count": null,
   "id": "bf4bb489",
   "metadata": {},
   "outputs": [],
   "source": [
    "#write a python program to find ASCII value of a character\n",
    "def conv_char_ascii(a):\n",
    "    return ord(a)\n",
    "conv_char_ascii('&')"
   ]
  },
  {
   "cell_type": "code",
   "execution_count": 49,
   "id": "3e13539f",
   "metadata": {},
   "outputs": [
    {
     "name": "stdout",
     "output_type": "stream",
     "text": [
      "enter first number25\n",
      "enter second number5\n",
      "enter operation/\n"
     ]
    },
    {
     "data": {
      "text/plain": [
       "5.0"
      ]
     },
     "execution_count": 49,
     "metadata": {},
     "output_type": "execute_result"
    }
   ],
   "source": [
    "# write a programto make simple calculator with four basic mathematical operation\n",
    "def simple_calculator():\n",
    "    n1 = int(input('enter first number'))\n",
    "    n2 = int(input('enter second number'))\n",
    "    str = input('enter operation')\n",
    "    if str == '+':\n",
    "        return n1+n2\n",
    "    elif str == '-':\n",
    "        return n1-n2\n",
    "    elif str == '*':\n",
    "        return n1 * n2\n",
    "    elif str == '/':\n",
    "        return n1/n2\n",
    "simple_calculator()\n",
    "    \n",
    "\n"
   ]
  },
  {
   "cell_type": "code",
   "execution_count": null,
   "id": "d9a0591f",
   "metadata": {},
   "outputs": [],
   "source": []
  },
  {
   "cell_type": "code",
   "execution_count": null,
   "id": "9eb56ca0",
   "metadata": {},
   "outputs": [],
   "source": []
  }
 ],
 "metadata": {
  "kernelspec": {
   "display_name": "Python 3 (ipykernel)",
   "language": "python",
   "name": "python3"
  },
  "language_info": {
   "codemirror_mode": {
    "name": "ipython",
    "version": 3
   },
   "file_extension": ".py",
   "mimetype": "text/x-python",
   "name": "python",
   "nbconvert_exporter": "python",
   "pygments_lexer": "ipython3",
   "version": "3.8.11"
  }
 },
 "nbformat": 4,
 "nbformat_minor": 5
}
